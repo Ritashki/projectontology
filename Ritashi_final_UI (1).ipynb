{
 "cells": [
  {
   "cell_type": "code",
   "execution_count": 3,
   "id": "272ba74d",
   "metadata": {},
   "outputs": [
    {
     "data": {
      "text/html": [
       "\n",
       "        <style>\n",
       "            .widget-label { font-size: 16px; font-weight: bold; color: #5e81ac; }\n",
       "            .widget-button { background-color: #5e81ac; color: white; font-weight: bold; border-radius: 5px; }\n",
       "            .widget-dropdown, .widget-text { border-radius: 5px; padding: 10px; font-size: 14px; background-color: #f1f5f9; }\n",
       "            .output_wrapper { background-color: #f9f9f9; padding: 20px; border-radius: 10px; }\n",
       "            .output { font-size: 16px; font-weight: bold; color: #4caf50; }\n",
       "        </style>\n",
       "    "
      ],
      "text/plain": [
       "<IPython.core.display.HTML object>"
      ]
     },
     "metadata": {},
     "output_type": "display_data"
    },
    {
     "data": {
      "application/vnd.jupyter.widget-view+json": {
       "model_id": "ad1a025b59de4971bb7a4e7ffdbbe063",
       "version_major": 2,
       "version_minor": 0
      },
      "text/plain": [
       "Dropdown(description='Select Operation:', layout=Layout(width='50%'), options=('AreaOfEllipse', 'VolumeOfCone'…"
      ]
     },
     "metadata": {},
     "output_type": "display_data"
    },
    {
     "data": {
      "application/vnd.jupyter.widget-view+json": {
       "model_id": "dd3b775454aa4d6b930e3fc9aa946203",
       "version_major": 2,
       "version_minor": 0
      },
      "text/plain": [
       "FloatText(value=0.0, description='Number 1:', layout=Layout(width='50%'), style=DescriptionStyle(description_w…"
      ]
     },
     "metadata": {},
     "output_type": "display_data"
    },
    {
     "data": {
      "application/vnd.jupyter.widget-view+json": {
       "model_id": "1d2e129a99674621aea94720449ee999",
       "version_major": 2,
       "version_minor": 0
      },
      "text/plain": [
       "FloatText(value=0.0, description='Number 2 (if applicable):', layout=Layout(width='50%'), style=DescriptionSty…"
      ]
     },
     "metadata": {},
     "output_type": "display_data"
    },
    {
     "data": {
      "application/vnd.jupyter.widget-view+json": {
       "model_id": "46354839611d4f44b0199c9f4add50cb",
       "version_major": 2,
       "version_minor": 0
      },
      "text/plain": [
       "Button(button_style='success', description='Calculate', icon='check', style=ButtonStyle(), tooltip='Click to p…"
      ]
     },
     "metadata": {},
     "output_type": "display_data"
    },
    {
     "data": {
      "application/vnd.jupyter.widget-view+json": {
       "model_id": "cd8b31d2c3a74ef2a9eea14526fdf8ef",
       "version_major": 2,
       "version_minor": 0
      },
      "text/plain": [
       "Output()"
      ]
     },
     "metadata": {},
     "output_type": "display_data"
    }
   ],
   "source": [
    "import rdflib\n",
    "import ipywidgets as widgets\n",
    "from IPython.display import display, HTML\n",
    "import math\n",
    "\n",
    "# Load the ontology file (.owl)\n",
    "ontology_file = r\"C:\\Users\\Abdul Rehman\\Downloads\\Ritashi_final.owl\"  # Update the path as per your system\n",
    "g = rdflib.Graph()\n",
    "g.parse(ontology_file, format=\"xml\")\n",
    "\n",
    "# Function to add new operation to the ontology\n",
    "def add_operation(op_type, num1, num2=None):\n",
    "    # Create unique URI for each operation\n",
    "    operation_uri = rdflib.URIRef(f\"http://example.org#{op_type}{num1}{num2 if num2 else ''}\")\n",
    "    \n",
    "    # Define operation type and link to appropriate class (operation type)\n",
    "    g.add((operation_uri, rdflib.RDF.type, rdflib.URIRef(f\"http://example.org#{op_type}\")))\n",
    "    \n",
    "    # Link the numbers to the operation\n",
    "    g.add((operation_uri, rdflib.URIRef(\"http://example.org#hasNumber1\"), rdflib.Literal(num1)))\n",
    "    if num2 is not None:\n",
    "        g.add((operation_uri, rdflib.URIRef(\"http://example.org#hasNumber2\"), rdflib.Literal(num2)))\n",
    "    \n",
    "    # Perform calculation based on operation type\n",
    "    result = perform_calculation(op_type, num1, num2)\n",
    "    \n",
    "    # Link the result to the operation\n",
    "    g.add((operation_uri, rdflib.URIRef(\"http://example.org#hasResult\"), rdflib.Literal(result)))\n",
    "    \n",
    "    # Return result\n",
    "    return result\n",
    "\n",
    "# Function to perform the calculations\n",
    "def perform_calculation(op_type, num1, num2=None):\n",
    "    if op_type == \"AreaOfEllipse\":\n",
    "        return math.pi * num1 * num2  # Area of Ellipse: π * a * b\n",
    "    elif op_type == \"VolumeOfCone\":\n",
    "        return (1/3) * math.pi * num1**2 * num2  # Volume of Cone: (1/3) * π * r² * h\n",
    "    elif op_type == \"BinomialProbability\":\n",
    "        # Binomial Probability: P(X=k) = (n choose k) * p^k * (1-p)^(n-k)\n",
    "        n = num1\n",
    "        k = num2\n",
    "        p = 0.5  # assuming p = 0.5 for simplicity\n",
    "        return math.comb(n, k) * (p**k) * ((1-p)**(n-k))\n",
    "    elif op_type == \"StandardDeviation\":\n",
    "        return math.sqrt(num1)  # Just an example of Standard Deviation formula\n",
    "    elif op_type == \"GeometricSeriesSum\":\n",
    "        r = num2\n",
    "        return num1 / (1 - r) if r < 1 else \"Series Diverges\"\n",
    "    else:\n",
    "        return \"Unknown operation\"\n",
    "\n",
    "# Function to query and display all operations and their results\n",
    "def show_operations():\n",
    "    query = \"\"\"\n",
    "        PREFIX ex: <http://example.org#>\n",
    "        SELECT ?operation ?result WHERE {\n",
    "            ?operation rdf:type ex:Operation .\n",
    "            ?operation ex:hasResult ?result .\n",
    "        }\n",
    "    \"\"\"\n",
    "    results = g.query(query)\n",
    "    operations = []\n",
    "    for row in results:\n",
    "        operations.append(f\"Operation: {row.operation}, Result: {row.result}\")\n",
    "    return \"\\n\".join(operations) if operations else \"No operations found.\"\n",
    "\n",
    "# Create widgets for input\n",
    "op_type_dropdown = widgets.Dropdown(\n",
    "    options=[\"AreaOfEllipse\", \"VolumeOfCone\", \"BinomialProbability\", \"StandardDeviation\", \"GeometricSeriesSum\"],\n",
    "    description=\"Select Operation:\",\n",
    "    style={'description_width': 'initial'},\n",
    "    layout=widgets.Layout(width='50%')\n",
    ")\n",
    "\n",
    "num1_input = widgets.FloatText(\n",
    "    description=\"Number 1:\",\n",
    "    style={'description_width': 'initial'},\n",
    "    layout=widgets.Layout(width='50%')\n",
    ")\n",
    "\n",
    "num2_input = widgets.FloatText(\n",
    "    description=\"Number 2 (if applicable):\",\n",
    "    style={'description_width': 'initial'},\n",
    "    layout=widgets.Layout(width='50%')\n",
    ")\n",
    "\n",
    "result_output = widgets.Output()\n",
    "\n",
    "def on_button_click(b):\n",
    "    with result_output:\n",
    "        op_type = op_type_dropdown.value\n",
    "        num1 = num1_input.value\n",
    "        num2 = num2_input.value if num2_input.value else None\n",
    "        result = add_operation(op_type, num1, num2)\n",
    "        print(f\"Result of {op_type}: {result}\")\n",
    "\n",
    "# Add a button for calculating\n",
    "calculate_button = widgets.Button(\n",
    "    description=\"Calculate\",\n",
    "    button_style=\"success\",\n",
    "    tooltip=\"Click to perform operation\",\n",
    "    icon=\"check\"\n",
    ")\n",
    "calculate_button.on_click(on_button_click)\n",
    "\n",
    "# Function to style the output and interface\n",
    "def style_interface():\n",
    "    display(HTML(\"\"\"\n",
    "        <style>\n",
    "            .widget-label { font-size: 16px; font-weight: bold; color: #5e81ac; }\n",
    "            .widget-button { background-color: #5e81ac; color: white; font-weight: bold; border-radius: 5px; }\n",
    "            .widget-dropdown, .widget-text { border-radius: 5px; padding: 10px; font-size: 14px; background-color: #f1f5f9; }\n",
    "            .output_wrapper { background-color: #f9f9f9; padding: 20px; border-radius: 10px; }\n",
    "            .output { font-size: 16px; font-weight: bold; color: #4caf50; }\n",
    "        </style>\n",
    "    \"\"\"))\n",
    "\n",
    "# Display the interface with customized styles\n",
    "style_interface()\n",
    "display(op_type_dropdown, num1_input, num2_input, calculate_button, result_output)\n"
   ]
  },
  {
   "cell_type": "code",
   "execution_count": null,
   "id": "e789a7b3",
   "metadata": {},
   "outputs": [],
   "source": []
  }
 ],
 "metadata": {
  "kernelspec": {
   "display_name": "Python 3 (ipykernel)",
   "language": "python",
   "name": "python3"
  },
  "language_info": {
   "codemirror_mode": {
    "name": "ipython",
    "version": 3
   },
   "file_extension": ".py",
   "mimetype": "text/x-python",
   "name": "python",
   "nbconvert_exporter": "python",
   "pygments_lexer": "ipython3",
   "version": "3.9.7"
  }
 },
 "nbformat": 4,
 "nbformat_minor": 5
}
